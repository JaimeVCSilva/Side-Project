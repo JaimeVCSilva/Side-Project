{
 "cells": [
  {
   "cell_type": "code",
   "execution_count": 2,
   "metadata": {},
   "outputs": [],
   "source": [
    "import numpy as np\n",
    "import pandas as pd\n",
    "import turtle "
   ]
  },
  {
   "cell_type": "code",
   "execution_count": 3,
   "metadata": {},
   "outputs": [],
   "source": [
    "def polygon(inicial_angle,n,size):\n",
    "    angle = 360/n\n",
    "    turtle.left(inicial_angle)\n",
    "    for i in range(n):\n",
    "        turtle.forward(size)\n",
    "        turtle.left(angle)"
   ]
  },
  {
   "cell_type": "code",
   "execution_count": 4,
   "metadata": {},
   "outputs": [],
   "source": [
    "ang=10\n",
    "n=9\n",
    "size=40\n",
    "step=80\n",
    "\n",
    "turtle.hideturtle()\n",
    "turtle.pensize(0.1)\n",
    "turtle.bgcolor(\"black\")\n",
    "turtle.pencolor('red')\n",
    "\n",
    "for i in range(int(360/ang)):\n",
    "    polygon(ang,n,size)\n",
    "\n",
    "turtle.penup()\n",
    "turtle.forward(step)\n",
    "turtle.pendown()\n",
    "turtle.pencolor('orange')\n",
    "\n",
    "for i in range(int(360/ang)):\n",
    "    polygon(ang,n,size)\n",
    "\n",
    "turtle.penup()\n",
    "turtle.right(120)\n",
    "turtle.forward(step)\n",
    "turtle.pendown()\n",
    "turtle.pencolor('yellow')\n",
    "\n",
    "for i in range(int(360/ang)):\n",
    "    polygon(ang,n,size)    \n",
    "turtle.done()"
   ]
  },
  {
   "cell_type": "code",
   "execution_count": null,
   "metadata": {},
   "outputs": [],
   "source": []
  }
 ],
 "metadata": {
  "kernelspec": {
   "display_name": "Python 3",
   "language": "python",
   "name": "python3"
  },
  "language_info": {
   "codemirror_mode": {
    "name": "ipython",
    "version": 3
   },
   "file_extension": ".py",
   "mimetype": "text/x-python",
   "name": "python",
   "nbconvert_exporter": "python",
   "pygments_lexer": "ipython3",
   "version": "3.7.3"
  }
 },
 "nbformat": 4,
 "nbformat_minor": 2
}
